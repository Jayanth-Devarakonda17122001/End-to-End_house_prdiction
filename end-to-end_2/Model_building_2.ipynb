{
 "cells": [
  {
   "cell_type": "code",
   "execution_count": 1,
   "id": "eaf7d7aa",
   "metadata": {},
   "outputs": [],
   "source": [
    "import numpy as np\n",
    "import pandas as pd"
   ]
  },
  {
   "cell_type": "code",
   "execution_count": 2,
   "id": "96cd805a",
   "metadata": {},
   "outputs": [],
   "source": [
    "df=pd.read_csv(r'C:\\Users\\Mr\\Desktop\\netzwork_python\\end-to-end_2\\true_car_listings.csv',encoding='latin-1')"
   ]
  },
  {
   "cell_type": "code",
   "execution_count": 3,
   "id": "48f0f996",
   "metadata": {},
   "outputs": [
    {
     "data": {
      "text/html": [
       "<div>\n",
       "<style scoped>\n",
       "    .dataframe tbody tr th:only-of-type {\n",
       "        vertical-align: middle;\n",
       "    }\n",
       "\n",
       "    .dataframe tbody tr th {\n",
       "        vertical-align: top;\n",
       "    }\n",
       "\n",
       "    .dataframe thead th {\n",
       "        text-align: right;\n",
       "    }\n",
       "</style>\n",
       "<table border=\"1\" class=\"dataframe\">\n",
       "  <thead>\n",
       "    <tr style=\"text-align: right;\">\n",
       "      <th></th>\n",
       "      <th>Price</th>\n",
       "      <th>Year</th>\n",
       "      <th>Mileage</th>\n",
       "      <th>City</th>\n",
       "      <th>State</th>\n",
       "      <th>Vin</th>\n",
       "      <th>Make</th>\n",
       "      <th>Model</th>\n",
       "    </tr>\n",
       "  </thead>\n",
       "  <tbody>\n",
       "    <tr>\n",
       "      <th>0</th>\n",
       "      <td>8995</td>\n",
       "      <td>2014</td>\n",
       "      <td>35725</td>\n",
       "      <td>El Paso</td>\n",
       "      <td>TX</td>\n",
       "      <td>19VDE2E53EE000083</td>\n",
       "      <td>Acura</td>\n",
       "      <td>ILX6-Speed</td>\n",
       "    </tr>\n",
       "    <tr>\n",
       "      <th>1</th>\n",
       "      <td>10888</td>\n",
       "      <td>2013</td>\n",
       "      <td>19606</td>\n",
       "      <td>Long Island City</td>\n",
       "      <td>NY</td>\n",
       "      <td>19VDE1F52DE012636</td>\n",
       "      <td>Acura</td>\n",
       "      <td>ILX5-Speed</td>\n",
       "    </tr>\n",
       "    <tr>\n",
       "      <th>2</th>\n",
       "      <td>8995</td>\n",
       "      <td>2013</td>\n",
       "      <td>48851</td>\n",
       "      <td>El Paso</td>\n",
       "      <td>TX</td>\n",
       "      <td>19VDE2E52DE000025</td>\n",
       "      <td>Acura</td>\n",
       "      <td>ILX6-Speed</td>\n",
       "    </tr>\n",
       "    <tr>\n",
       "      <th>3</th>\n",
       "      <td>10999</td>\n",
       "      <td>2014</td>\n",
       "      <td>39922</td>\n",
       "      <td>Windsor</td>\n",
       "      <td>CO</td>\n",
       "      <td>19VDE1F71EE003817</td>\n",
       "      <td>Acura</td>\n",
       "      <td>ILX5-Speed</td>\n",
       "    </tr>\n",
       "    <tr>\n",
       "      <th>4</th>\n",
       "      <td>14799</td>\n",
       "      <td>2016</td>\n",
       "      <td>22142</td>\n",
       "      <td>Lindon</td>\n",
       "      <td>UT</td>\n",
       "      <td>19UDE2F32GA001284</td>\n",
       "      <td>Acura</td>\n",
       "      <td>ILXAutomatic</td>\n",
       "    </tr>\n",
       "  </tbody>\n",
       "</table>\n",
       "</div>"
      ],
      "text/plain": [
       "   Price  Year  Mileage              City State                Vin   Make  \\\n",
       "0   8995  2014    35725           El Paso    TX  19VDE2E53EE000083  Acura   \n",
       "1  10888  2013    19606  Long Island City    NY  19VDE1F52DE012636  Acura   \n",
       "2   8995  2013    48851           El Paso    TX  19VDE2E52DE000025  Acura   \n",
       "3  10999  2014    39922           Windsor    CO  19VDE1F71EE003817  Acura   \n",
       "4  14799  2016    22142            Lindon    UT  19UDE2F32GA001284  Acura   \n",
       "\n",
       "          Model  \n",
       "0    ILX6-Speed  \n",
       "1    ILX5-Speed  \n",
       "2    ILX6-Speed  \n",
       "3    ILX5-Speed  \n",
       "4  ILXAutomatic  "
      ]
     },
     "execution_count": 3,
     "metadata": {},
     "output_type": "execute_result"
    }
   ],
   "source": [
    "df.head()"
   ]
  },
  {
   "cell_type": "code",
   "execution_count": 4,
   "id": "c96dde4c",
   "metadata": {},
   "outputs": [
    {
     "data": {
      "text/plain": [
       "(852122, 8)"
      ]
     },
     "execution_count": 4,
     "metadata": {},
     "output_type": "execute_result"
    }
   ],
   "source": [
    "df.shape"
   ]
  },
  {
   "cell_type": "code",
   "execution_count": 5,
   "id": "571a8e3d",
   "metadata": {},
   "outputs": [],
   "source": [
    "x=df.loc[:,['Year','Mileage']]"
   ]
  },
  {
   "cell_type": "code",
   "execution_count": 6,
   "id": "8fe87fc5",
   "metadata": {},
   "outputs": [],
   "source": [
    "y=df.loc[:,['Price']]"
   ]
  },
  {
   "cell_type": "code",
   "execution_count": 7,
   "id": "098a5d92",
   "metadata": {},
   "outputs": [],
   "source": [
    "from sklearn.model_selection import train_test_split"
   ]
  },
  {
   "cell_type": "code",
   "execution_count": 8,
   "id": "f080836f",
   "metadata": {},
   "outputs": [],
   "source": [
    "x_train, x_test, y_train, y_test = train_test_split(x,y, test_size=0.2, random_state=0)"
   ]
  },
  {
   "cell_type": "code",
   "execution_count": 9,
   "id": "d9533689",
   "metadata": {},
   "outputs": [],
   "source": [
    "x=x.fillna(0, inplace=True)\n",
    "y=y.fillna(0, inplace=True)"
   ]
  },
  {
   "cell_type": "code",
   "execution_count": 11,
   "id": "86ea1d99",
   "metadata": {},
   "outputs": [],
   "source": [
    "from sklearn.linear_model import LinearRegression"
   ]
  },
  {
   "cell_type": "code",
   "execution_count": 19,
   "id": "4cf0a415",
   "metadata": {},
   "outputs": [],
   "source": [
    "model2 = LinearRegression()"
   ]
  },
  {
   "cell_type": "code",
   "execution_count": 20,
   "id": "b51a1ec7",
   "metadata": {},
   "outputs": [],
   "source": [
    "from sklearn.linear_model import LinearRegression"
   ]
  },
  {
   "cell_type": "code",
   "execution_count": 21,
   "id": "5fcb7d97",
   "metadata": {},
   "outputs": [
    {
     "data": {
      "text/plain": [
       "LinearRegression()"
      ]
     },
     "execution_count": 21,
     "metadata": {},
     "output_type": "execute_result"
    }
   ],
   "source": [
    "model2.fit(x_train,y_train)"
   ]
  },
  {
   "cell_type": "code",
   "execution_count": 22,
   "id": "4bed0179",
   "metadata": {},
   "outputs": [],
   "source": [
    "y_pred=model2.predict(x_test)"
   ]
  },
  {
   "cell_type": "code",
   "execution_count": 23,
   "id": "923b3e80",
   "metadata": {},
   "outputs": [],
   "source": [
    "from sklearn.metrics import r2_score"
   ]
  },
  {
   "cell_type": "code",
   "execution_count": 24,
   "id": "e8d9cbda",
   "metadata": {},
   "outputs": [
    {
     "data": {
      "text/plain": [
       "0.19017621995193623"
      ]
     },
     "execution_count": 24,
     "metadata": {},
     "output_type": "execute_result"
    }
   ],
   "source": [
    "r2_score(y_test,y_pred)"
   ]
  },
  {
   "cell_type": "code",
   "execution_count": 25,
   "id": "cdb32f15",
   "metadata": {},
   "outputs": [],
   "source": [
    "import pickle"
   ]
  },
  {
   "cell_type": "code",
   "execution_count": 26,
   "id": "a56bfb0f",
   "metadata": {},
   "outputs": [],
   "source": [
    "file=open('model2.pkl','wb')"
   ]
  },
  {
   "cell_type": "code",
   "execution_count": 27,
   "id": "0c69a6af",
   "metadata": {},
   "outputs": [],
   "source": [
    "pickle.dump(model2,file)"
   ]
  },
  {
   "cell_type": "code",
   "execution_count": null,
   "id": "352f7608",
   "metadata": {},
   "outputs": [],
   "source": []
  },
  {
   "cell_type": "code",
   "execution_count": null,
   "id": "684a0c85",
   "metadata": {},
   "outputs": [],
   "source": []
  }
 ],
 "metadata": {
  "kernelspec": {
   "display_name": "Python 3 (ipykernel)",
   "language": "python",
   "name": "python3"
  },
  "language_info": {
   "codemirror_mode": {
    "name": "ipython",
    "version": 3
   },
   "file_extension": ".py",
   "mimetype": "text/x-python",
   "name": "python",
   "nbconvert_exporter": "python",
   "pygments_lexer": "ipython3",
   "version": "3.9.7"
  }
 },
 "nbformat": 4,
 "nbformat_minor": 5
}
